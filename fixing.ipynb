{
 "cells": [
  {
   "cell_type": "code",
   "execution_count": 3,
   "outputs": [],
   "source": [
    "import streamlit as st\n",
    "from neuralintents import GenericAssistant\n",
    "import matplotlib.pyplot as plt \n",
    "import pandas as pd \n",
    "import pandas_datareader as pdr\n",
    "import mplfinance as mpf \n",
    "import pickle \n",
    "import sys\n",
    "import datetime as dt \n",
    "import yfinance as yf\n",
    "import plotly.graph_objects as go\n",
    "import os\n",
    "import random\n",
    "import datetime as dt"
   ],
   "metadata": {
    "collapsed": false,
    "ExecuteTime": {
     "end_time": "2023-07-17T00:29:35.123187Z",
     "start_time": "2023-07-17T00:29:29.505612Z"
    }
   }
  },
  {
   "cell_type": "code",
   "execution_count": 4,
   "metadata": {
    "ExecuteTime": {
     "end_time": "2023-07-17T00:29:36.690763Z",
     "start_time": "2023-07-17T00:29:36.680301Z"
    }
   },
   "outputs": [],
   "source": [
    "portfolio_path = \"./data/portfolio.pkl\"\n",
    "\n",
    "def load_portfolio():\n",
    "    with open(portfolio_path, 'rb') as f:\n",
    "        return pickle.load(f)\n",
    "\n",
    "portfolio = load_portfolio()"
   ]
  },
  {
   "cell_type": "code",
   "execution_count": 5,
   "outputs": [
    {
     "data": {
      "text/plain": "{'AMZN': 56, 'G': 40}"
     },
     "execution_count": 5,
     "metadata": {},
     "output_type": "execute_result"
    }
   ],
   "source": [
    "portfolio"
   ],
   "metadata": {
    "collapsed": false,
    "ExecuteTime": {
     "end_time": "2023-07-17T00:29:45.581253Z",
     "start_time": "2023-07-17T00:29:45.551593Z"
    }
   }
  },
  {
   "cell_type": "code",
   "execution_count": 17,
   "metadata": {},
   "outputs": [
    {
     "ename": "NotImplementedError",
     "evalue": "data_source=None is not implemented",
     "output_type": "error",
     "traceback": [
      "\u001B[0;31m---------------------------------------------------------------------------\u001B[0m",
      "\u001B[0;31mNotImplementedError\u001B[0m                       Traceback (most recent call last)",
      "Cell \u001B[0;32mIn[17], line 3\u001B[0m\n\u001B[1;32m      1\u001B[0m \u001B[39msum\u001B[39m \u001B[39m=\u001B[39m \u001B[39m0\u001B[39m \n\u001B[1;32m      2\u001B[0m \u001B[39mfor\u001B[39;00m ticker \u001B[39min\u001B[39;00m portfolio\u001B[39m.\u001B[39mkeys():\n\u001B[0;32m----> 3\u001B[0m     data \u001B[39m=\u001B[39m pdr\u001B[39m.\u001B[39;49mDataReader(ticker)\n\u001B[1;32m      4\u001B[0m     price \u001B[39m=\u001B[39m data[\u001B[39m'\u001B[39m\u001B[39mClose\u001B[39m\u001B[39m'\u001B[39m]\u001B[39m.\u001B[39miloc[\u001B[39m-\u001B[39m\u001B[39m1\u001B[39m]\n\u001B[1;32m      5\u001B[0m     \u001B[39msum\u001B[39m \u001B[39m+\u001B[39m\u001B[39m=\u001B[39m price\n",
      "File \u001B[0;32m~/anaconda3/lib/python3.10/site-packages/pandas/util/_decorators.py:211\u001B[0m, in \u001B[0;36mdeprecate_kwarg.<locals>._deprecate_kwarg.<locals>.wrapper\u001B[0;34m(*args, **kwargs)\u001B[0m\n\u001B[1;32m    209\u001B[0m     \u001B[39melse\u001B[39;00m:\n\u001B[1;32m    210\u001B[0m         kwargs[new_arg_name] \u001B[39m=\u001B[39m new_arg_value\n\u001B[0;32m--> 211\u001B[0m \u001B[39mreturn\u001B[39;00m func(\u001B[39m*\u001B[39;49margs, \u001B[39m*\u001B[39;49m\u001B[39m*\u001B[39;49mkwargs)\n",
      "File \u001B[0;32m~/anaconda3/lib/python3.10/site-packages/pandas_datareader/data.py:367\u001B[0m, in \u001B[0;36mDataReader\u001B[0;34m(name, data_source, start, end, retry_count, pause, session, api_key)\u001B[0m\n\u001B[1;32m    365\u001B[0m \u001B[39mif\u001B[39;00m data_source \u001B[39mnot\u001B[39;00m \u001B[39min\u001B[39;00m expected_source:\n\u001B[1;32m    366\u001B[0m     msg \u001B[39m=\u001B[39m \u001B[39m\"\u001B[39m\u001B[39mdata_source=\u001B[39m\u001B[39m%r\u001B[39;00m\u001B[39m is not implemented\u001B[39m\u001B[39m\"\u001B[39m \u001B[39m%\u001B[39m data_source\n\u001B[0;32m--> 367\u001B[0m     \u001B[39mraise\u001B[39;00m \u001B[39mNotImplementedError\u001B[39;00m(msg)\n\u001B[1;32m    369\u001B[0m \u001B[39mif\u001B[39;00m data_source \u001B[39m==\u001B[39m \u001B[39m\"\u001B[39m\u001B[39myahoo\u001B[39m\u001B[39m\"\u001B[39m:\n\u001B[1;32m    370\u001B[0m     \u001B[39mreturn\u001B[39;00m YahooDailyReader(\n\u001B[1;32m    371\u001B[0m         symbols\u001B[39m=\u001B[39mname,\n\u001B[1;32m    372\u001B[0m         start\u001B[39m=\u001B[39mstart,\n\u001B[0;32m   (...)\u001B[0m\n\u001B[1;32m    378\u001B[0m         session\u001B[39m=\u001B[39msession,\n\u001B[1;32m    379\u001B[0m     )\u001B[39m.\u001B[39mread()\n",
      "\u001B[0;31mNotImplementedError\u001B[0m: data_source=None is not implemented"
     ]
    }
   ],
   "source": [
    "sum = 0 \n",
    "for ticker in portfolio.keys():\n",
    "    data = pdr.DataReader(ticker)\n",
    "    price = data['Close'].iloc[-1]\n",
    "    sum += price "
   ]
  },
  {
   "cell_type": "code",
   "execution_count": 27,
   "metadata": {},
   "outputs": [
    {
     "ename": "AttributeError",
     "evalue": "type object 'datetime.date' has no attribute 'yesterday'",
     "output_type": "error",
     "traceback": [
      "\u001B[0;31m---------------------------------------------------------------------------\u001B[0m",
      "\u001B[0;31mAttributeError\u001B[0m                            Traceback (most recent call last)",
      "Cell \u001B[0;32mIn[27], line 1\u001B[0m\n\u001B[0;32m----> 1\u001B[0m dt\u001B[39m.\u001B[39;49mdate\u001B[39m.\u001B[39;49myesterday()\n",
      "\u001B[0;31mAttributeError\u001B[0m: type object 'datetime.date' has no attribute 'yesterday'"
     ]
    }
   ],
   "source": [
    "dt.date.()"
   ]
  },
  {
   "cell_type": "code",
   "execution_count": 25,
   "metadata": {},
   "outputs": [
    {
     "name": "stdout",
     "output_type": "stream",
     "text": [
      "[*********************100%***********************]  1 of 1 completed\n"
     ]
    }
   ],
   "source": [
    "data = yf.download('GOOG', start='2023-7-15', end='2023-7-15')\n"
   ]
  },
  {
   "cell_type": "code",
   "execution_count": 26,
   "metadata": {},
   "outputs": [
    {
     "data": {
      "text/html": [
       "<div>\n",
       "<style scoped>\n",
       "    .dataframe tbody tr th:only-of-type {\n",
       "        vertical-align: middle;\n",
       "    }\n",
       "\n",
       "    .dataframe tbody tr th {\n",
       "        vertical-align: top;\n",
       "    }\n",
       "\n",
       "    .dataframe thead th {\n",
       "        text-align: right;\n",
       "    }\n",
       "</style>\n",
       "<table border=\"1\" class=\"dataframe\">\n",
       "  <thead>\n",
       "    <tr style=\"text-align: right;\">\n",
       "      <th></th>\n",
       "      <th>Open</th>\n",
       "      <th>High</th>\n",
       "      <th>Low</th>\n",
       "      <th>Close</th>\n",
       "      <th>Adj Close</th>\n",
       "      <th>Volume</th>\n",
       "    </tr>\n",
       "    <tr>\n",
       "      <th>Date</th>\n",
       "      <th></th>\n",
       "      <th></th>\n",
       "      <th></th>\n",
       "      <th></th>\n",
       "      <th></th>\n",
       "      <th></th>\n",
       "    </tr>\n",
       "  </thead>\n",
       "  <tbody>\n",
       "    <tr>\n",
       "      <th>2023-07-14</th>\n",
       "      <td>125.129997</td>\n",
       "      <td>127.089996</td>\n",
       "      <td>124.900002</td>\n",
       "      <td>125.699997</td>\n",
       "      <td>125.699997</td>\n",
       "      <td>20499780</td>\n",
       "    </tr>\n",
       "  </tbody>\n",
       "</table>\n",
       "</div>"
      ],
      "text/plain": [
       "                  Open        High         Low       Close   Adj Close  \\\n",
       "Date                                                                     \n",
       "2023-07-14  125.129997  127.089996  124.900002  125.699997  125.699997   \n",
       "\n",
       "              Volume  \n",
       "Date                  \n",
       "2023-07-14  20499780  "
      ]
     },
     "execution_count": 26,
     "metadata": {},
     "output_type": "execute_result"
    }
   ],
   "source": [
    "data"
   ]
  },
  {
   "cell_type": "code",
   "execution_count": 28,
   "metadata": {},
   "outputs": [
    {
     "name": "stdout",
     "output_type": "stream",
     "text": [
      "Today is:  2023-07-16\n",
      "Yesterday is:  2023-07-15\n"
     ]
    }
   ],
   "source": [
    "\n",
    "# Get today's date\n",
    "\n",
    "print(\"Today is: \", today)\n",
    " \n",
    "# Yesterday date\n",
    "\n",
    "print(\"Yesterday is: \", yesterday)"
   ]
  },
  {
   "cell_type": "code",
   "execution_count": 33,
   "metadata": {},
   "outputs": [],
   "source": [
    "def portfolio_worth():\n",
    "    today = dt.date.today()\n",
    "    yesterday = today - dt.timedelta(days = 1)\n",
    "    sum = 0\n",
    "    for ticker in portfolio.keys():\n",
    "        data = yf.download('GOOG', start=yesterday, end=yesterday)\n",
    "        price = data['Close'].iloc[-1]\n",
    "        sum +=price\n",
    "    print(f\"Based on yesterday's closing prices, your portfolio is worth {sum:.2f} USD\")\n"
   ]
  },
  {
   "cell_type": "code",
   "execution_count": 34,
   "metadata": {},
   "outputs": [
    {
     "name": "stdout",
     "output_type": "stream",
     "text": [
      "[*********************100%***********************]  1 of 1 completed\n",
      "[*********************100%***********************]  1 of 1 completed\n",
      "Based on yesterday's closing prices, your portfolio is worth 251.40 USD\n"
     ]
    }
   ],
   "source": [
    "portfolio_worth()"
   ]
  },
  {
   "cell_type": "code",
   "execution_count": 6,
   "metadata": {},
   "outputs": [
    {
     "name": "stdout",
     "output_type": "stream",
     "text": [
      "lazy-loading dict with keys = ['currency', 'dayHigh', 'dayLow', 'exchange', 'fiftyDayAverage', 'lastPrice', 'lastVolume', 'marketCap', 'open', 'previousClose', 'quoteType', 'regularMarketPreviousClose', 'shares', 'tenDayAverageVolume', 'threeMonthAverageVolume', 'timezone', 'twoHundredDayAverage', 'yearChange', 'yearHigh', 'yearLow']\n"
     ]
    }
   ],
   "source": [
    "import yfinance as yf\n",
    "\n",
    "stock = 'AAPL'\n",
    "info = yf.Ticker(stock).basic_info\n",
    "print(info)"
   ]
  },
  {
   "cell_type": "code",
   "execution_count": 9,
   "metadata": {},
   "outputs": [],
   "source": [
    "def check_available(asset: str) -> bool:\n",
    "    \"\"\"\n",
    "    Checks if an asset is available via the Yahoo Finance API.\n",
    "    \"\"\"\n",
    "    info = yf.Ticker(asset).history(\n",
    "        period='7d',\n",
    "        interval='1d')\n",
    "    # return == period value for more precise check but may\n",
    "    # need more complex handling to take into account non-\n",
    "    # trading days, holidays, etc.\n",
    "    return len(info) > 0\n"
   ]
  },
  {
   "cell_type": "code",
   "execution_count": 12,
   "metadata": {},
   "outputs": [
    {
     "name": "stderr",
     "output_type": "stream",
     "text": [
      "ASL;DFJK: Period '7d' is invalid, must be one of ['1mo', '3mo', '6mo', 'ytd', '1y', '2y', '5y', '10y', 'max']\n"
     ]
    },
    {
     "data": {
      "text/plain": [
       "False"
      ]
     },
     "execution_count": 12,
     "metadata": {},
     "output_type": "execute_result"
    }
   ],
   "source": [
    "check_available('asl;dfjk')"
   ]
  },
  {
   "cell_type": "code",
   "execution_count": 1,
   "metadata": {
    "ExecuteTime": {
     "end_time": "2023-07-17T00:29:19.286262Z",
     "start_time": "2023-07-17T00:29:19.109885Z"
    }
   },
   "outputs": [
    {
     "ename": "NameError",
     "evalue": "name 'portfolio' is not defined",
     "output_type": "error",
     "traceback": [
      "\u001B[0;31m---------------------------------------------------------------------------\u001B[0m",
      "\u001B[0;31mNameError\u001B[0m                                 Traceback (most recent call last)",
      "Cell \u001B[0;32mIn[1], line 1\u001B[0m\n\u001B[0;32m----> 1\u001B[0m \u001B[43mportfolio\u001B[49m\n",
      "\u001B[0;31mNameError\u001B[0m: name 'portfolio' is not defined"
     ]
    }
   ],
   "source": [
    "portfolio"
   ]
  },
  {
   "cell_type": "code",
   "execution_count": null,
   "outputs": [],
   "source": [],
   "metadata": {
    "collapsed": false
   }
  }
 ],
 "metadata": {
  "kernelspec": {
   "display_name": "base",
   "language": "python",
   "name": "python3"
  },
  "language_info": {
   "codemirror_mode": {
    "name": "ipython",
    "version": 3
   },
   "file_extension": ".py",
   "mimetype": "text/x-python",
   "name": "python",
   "nbconvert_exporter": "python",
   "pygments_lexer": "ipython3",
   "version": "3.10.9"
  },
  "orig_nbformat": 4
 },
 "nbformat": 4,
 "nbformat_minor": 2
}
